{
  "nbformat": 4,
  "nbformat_minor": 0,
  "metadata": {
    "colab": {
      "name": "tensorflow_example.ipynb",
      "provenance": [],
      "collapsed_sections": []
    },
    "kernelspec": {
      "name": "python3",
      "display_name": "Python 3"
    }
  },
  "cells": [
    {
      "cell_type": "markdown",
      "metadata": {
        "id": "W2iUfWzlqcGI"
      },
      "source": [
        "Please refer to [Overview of Colaboratory features](https://colab.research.google.com/notebooks/basic_features_overview.ipynb) for a general introduction to Colaboratory. "
      ]
    },
    {
      "cell_type": "code",
      "metadata": {
        "id": "NYLMJ0tSeinp"
      },
      "source": [
        "import tensorflow as tf"
      ],
      "execution_count": 1,
      "outputs": []
    },
    {
      "cell_type": "markdown",
      "metadata": {
        "id": "UCZ2a7egemN-"
      },
      "source": [
        "First, create a TensorFlow constants and multiply them. "
      ]
    },
    {
      "cell_type": "code",
      "metadata": {
        "id": "GKNnq8sbeuAL",
        "colab": {
          "base_uri": "https://localhost:8080/"
        },
        "outputId": "0f36708a-25bb-420f-bb5e-cf3ab8cb52d4"
      },
      "source": [
        "# Initialize two constants\n",
        "x1 = tf.constant([1,2,3,4])\n",
        "x2 = tf.constant([5,6,7,8])\n",
        "\n",
        "# Multiply\n",
        "result = tf.multiply(x1, x2)\n",
        "\n",
        "# Print `result`\n",
        "print(result)"
      ],
      "execution_count": 4,
      "outputs": [
        {
          "output_type": "stream",
          "name": "stdout",
          "text": [
            "tf.Tensor([ 5 12 21 32], shape=(4,), dtype=int32)\n"
          ]
        }
      ]
    },
    {
      "cell_type": "markdown",
      "metadata": {
        "id": "W7fblMC9e7SQ"
      },
      "source": [
        "Create TensorFlow variables. The first element in both is the value to be\n",
        "assigned the constant/variable when it is initialised.\n",
        "The second is an optional name string which can be used to\n",
        "label the constant/variable - handy for visualisations"
      ]
    },
    {
      "cell_type": "code",
      "metadata": {
        "id": "wPH_3GhafCoO"
      },
      "source": [
        "y = tf.Variable(2.0, name='y')\n",
        "z = tf.Variable(1.0, name='z')"
      ],
      "execution_count": 7,
      "outputs": []
    },
    {
      "cell_type": "markdown",
      "metadata": {
        "id": "zRO2uge5fIKi"
      },
      "source": [
        "Create some operations"
      ]
    },
    {
      "cell_type": "code",
      "metadata": {
        "id": "FWXi_9y0fJ6g",
        "colab": {
          "base_uri": "https://localhost:8080/"
        },
        "outputId": "d5e79c1b-9bc9-47f6-952b-bf82a64eefac"
      },
      "source": [
        "l = tf.add(y, z, name='l')\n",
        "\n",
        "print(l)"
      ],
      "execution_count": 8,
      "outputs": [
        {
          "output_type": "stream",
          "name": "stdout",
          "text": [
            "tf.Tensor(3.0, shape=(), dtype=float32)\n"
          ]
        }
      ]
    },
    {
      "cell_type": "markdown",
      "metadata": {
        "id": "F9hO3Bhasjhg"
      },
      "source": [
        "## Exercise: Introduce a Third Operand\n",
        "\n",
        "Introduce a constant and perform an operation on l and this constant."
      ]
    }
  ]
}